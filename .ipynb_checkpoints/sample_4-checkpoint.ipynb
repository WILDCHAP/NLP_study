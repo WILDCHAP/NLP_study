{
 "cells": [
  {
   "cell_type": "code",
   "execution_count": 5,
   "metadata": {},
   "outputs": [],
   "source": [
    "import jieba as jb"
   ]
  },
  {
   "cell_type": "code",
   "execution_count": 34,
   "metadata": {},
   "outputs": [],
   "source": [
    "sent = \"你就是我心中的棉花糖甜蜜的梦想\""
   ]
  },
  {
   "cell_type": "code",
   "execution_count": 35,
   "metadata": {},
   "outputs": [
    {
     "name": "stdout",
     "output_type": "stream",
     "text": [
      "全模式： 你/就是/我心/心中/的/棉花/花糖/甜蜜/的/梦想\n"
     ]
    }
   ],
   "source": [
    "seg_list = jb.cut(sent, cut_all=True)\n",
    "print(\"全模式：\", \"/\".join(seg_list))"
   ]
  },
  {
   "cell_type": "code",
   "execution_count": 36,
   "metadata": {},
   "outputs": [
    {
     "name": "stdout",
     "output_type": "stream",
     "text": [
      "精确模式： 你/就是/我/心中/的/棉花/糖/甜蜜/的/梦想\n"
     ]
    }
   ],
   "source": [
    "seg_list = jb.cut(sent, cut_all=False)\n",
    "print(\"精确模式：\", \"/\".join(seg_list))"
   ]
  },
  {
   "cell_type": "code",
   "execution_count": 37,
   "metadata": {},
   "outputs": [
    {
     "name": "stdout",
     "output_type": "stream",
     "text": [
      "默认精确模式： 你/就是/我/心中/的/棉花/糖/甜蜜/的/梦想\n"
     ]
    }
   ],
   "source": [
    "seg_list = jb.cut(sent)\n",
    "print(\"默认精确模式：\", \"/\".join(seg_list))"
   ]
  },
  {
   "cell_type": "code",
   "execution_count": 38,
   "metadata": {},
   "outputs": [
    {
     "name": "stdout",
     "output_type": "stream",
     "text": [
      "搜索引擎模式： 你/就是/我/心中/的/棉花/糖/甜蜜/的/梦想\n"
     ]
    }
   ],
   "source": [
    "seg_list = jb.cut_for_search(sent)\n",
    "print(\"搜索引擎模式：\", \"/\".join(seg_list))"
   ]
  },
  {
   "cell_type": "code",
   "execution_count": null,
   "metadata": {},
   "outputs": [],
   "source": []
  },
  {
   "cell_type": "code",
   "execution_count": null,
   "metadata": {},
   "outputs": [],
   "source": []
  }
 ],
 "metadata": {
  "kernelspec": {
   "display_name": "Python 3",
   "language": "python",
   "name": "python3"
  },
  "language_info": {
   "codemirror_mode": {
    "name": "ipython",
    "version": 3
   },
   "file_extension": ".py",
   "mimetype": "text/x-python",
   "name": "python",
   "nbconvert_exporter": "python",
   "pygments_lexer": "ipython3",
   "version": "3.7.0"
  }
 },
 "nbformat": 4,
 "nbformat_minor": 4
}
