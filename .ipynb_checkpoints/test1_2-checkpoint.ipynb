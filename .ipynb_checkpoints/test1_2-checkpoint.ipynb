{
 "cells": [
  {
   "cell_type": "code",
   "execution_count": 2,
   "metadata": {},
   "outputs": [],
   "source": [
    "import re\n",
    "\n",
    "#删除噪声方法\n",
    "def clean_words(text):\n",
    "    \n",
    "    #删除html文件标记\n",
    "    text = re.sub(\"(<.*?>)\", \"\", text)\n",
    "    \n",
    "    #删除非ascii和数字\n",
    "    text = re.sub(\"(\\W|\\d+)\", \" \", text)\n",
    "    \n",
    "    #删除空格\n",
    "    text = text.strip()\n",
    "    \n",
    "    return text"
   ]
  },
  {
   "cell_type": "code",
   "execution_count": 8,
   "metadata": {},
   "outputs": [],
   "source": [
    "raw = ['..sleepy','sleepy!!','#sleepy','>>>>>sleepy>>>>','<a>sleepy</ a>']"
   ]
  },
  {
   "cell_type": "code",
   "execution_count": 9,
   "metadata": {},
   "outputs": [
    {
     "name": "stdout",
     "output_type": "stream",
     "text": [
      "['sleepy', 'sleepy', 'sleepy', 'sleepy', 'sleepy']\n"
     ]
    }
   ],
   "source": [
    "clean = [clean_words(r) for r in raw]\n",
    "print(clean)"
   ]
  },
  {
   "cell_type": "code",
   "execution_count": null,
   "metadata": {},
   "outputs": [],
   "source": []
  }
 ],
 "metadata": {
  "kernelspec": {
   "display_name": "Python 3",
   "language": "python",
   "name": "python3"
  },
  "language_info": {
   "codemirror_mode": {
    "name": "ipython",
    "version": 3
   },
   "file_extension": ".py",
   "mimetype": "text/x-python",
   "name": "python",
   "nbconvert_exporter": "python",
   "pygments_lexer": "ipython3",
   "version": "3.5.2"
  }
 },
 "nbformat": 4,
 "nbformat_minor": 4
}
