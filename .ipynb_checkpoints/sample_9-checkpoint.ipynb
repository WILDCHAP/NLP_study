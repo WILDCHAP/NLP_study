{
 "cells": [
  {
   "cell_type": "code",
   "execution_count": 1,
   "metadata": {},
   "outputs": [],
   "source": [
    "# 运用正则表达式和Jieba分词来完成日期提取功能\n",
    "import re\n",
    "import jieba.posseg as psg"
   ]
  },
  {
   "cell_type": "code",
   "execution_count": 3,
   "metadata": {},
   "outputs": [
    {
     "name": "stdout",
     "output_type": "stream",
     "text": [
      "今天天气 i\n",
      "比 p\n",
      "昨天 t\n",
      "和 c\n",
      "2020 m\n",
      "年 m\n",
      "1 m\n",
      "月 m\n",
      "5 m\n",
      "日 m\n",
      "好 a\n"
     ]
    }
   ],
   "source": [
    "# 1. 利用Jieba对词性进行标注函数\n",
    "def psg_put_label(text):\n",
    "    cut_list = psg.cut(text)  # 二维，第一维度为[被切分的词][词性]  其中'm'\\'t'是表示时间的词\n",
    "    for k,v in cut_list:\n",
    "        print(k, v)\n",
    "# Test\n",
    "# psg_put_label(\"今天天气比昨天和2020年1月5日好\")"
   ]
  },
  {
   "cell_type": "code",
   "execution_count": null,
   "metadata": {},
   "outputs": [],
   "source": []
  }
 ],
 "metadata": {
  "kernelspec": {
   "display_name": "Python 3",
   "language": "python",
   "name": "python3"
  },
  "language_info": {
   "codemirror_mode": {
    "name": "ipython",
    "version": 3
   },
   "file_extension": ".py",
   "mimetype": "text/x-python",
   "name": "python",
   "nbconvert_exporter": "python",
   "pygments_lexer": "ipython3",
   "version": "3.7.0"
  }
 },
 "nbformat": 4,
 "nbformat_minor": 4
}
