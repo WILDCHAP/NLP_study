{
 "cells": [
  {
   "cell_type": "code",
   "execution_count": 68,
   "metadata": {},
   "outputs": [],
   "source": [
    "import re"
   ]
  },
  {
   "cell_type": "code",
   "execution_count": 69,
   "metadata": {},
   "outputs": [],
   "source": [
    "s = \"[一般]突出高水平开放打造新发展优势。[重要]开展规则、规制、管理、标准等制度型开放，形成国际合作和竞争新优势1998。北京试行跨境服务贸易负面清单管理制度2015。湖南放宽外商设立投资性公司申请条件2125。[次要]安徽探索建立符合国际通行规则的跨国技术转移和知识产权分享机制。浙江允许中资非五星红旗船开展以宁波舟山港为中转的外贸集装箱沿海捎带业务。\""
   ]
  },
  {
   "cell_type": "code",
   "execution_count": 70,
   "metadata": {},
   "outputs": [
    {
     "data": {
      "text/plain": [
       "['[一般]突出高水平开放打造新发展优势',\n",
       " '[重要]开展规则、规制、管理、标准等制度型开放，形成国际合作和竞争新优势1998',\n",
       " '北京试行跨境服务贸易负面清单管理制度2015',\n",
       " '湖南放宽外商设立投资性公司申请条件2125',\n",
       " '[次要]安徽探索建立符合国际通行规则的跨国技术转移和知识产权分享机制',\n",
       " '浙江允许中资非五星红旗船开展以宁波舟山港为中转的外贸集装箱沿海捎带业务',\n",
       " '']"
      ]
     },
     "execution_count": 70,
     "metadata": {},
     "output_type": "execute_result"
    }
   ],
   "source": [
    "regex = \"开展\"\n",
    "s = s.split(\"。\")\n",
    "s"
   ]
  },
  {
   "cell_type": "code",
   "execution_count": 71,
   "metadata": {},
   "outputs": [
    {
     "name": "stdout",
     "output_type": "stream",
     "text": [
      "[重要]开展规则、规制、管理、标准等制度型开放，形成国际合作和竞争新优势1998\n",
      "浙江允许中资非五星红旗船开展以宁波舟山港为中转的外贸集装箱沿海捎带业务\n"
     ]
    }
   ],
   "source": [
    "# 利用正则表达式匹配字符串\n",
    "for str in s:\n",
    "    if re.search(regex, str) is not None:\n",
    "        print(str)"
   ]
  },
  {
   "cell_type": "code",
   "execution_count": 72,
   "metadata": {},
   "outputs": [
    {
     "name": "stdout",
     "output_type": "stream",
     "text": [
      "浙江允许中资非五星红旗船开展以宁波舟山港为中转的外贸集装箱沿海捎带业务\n"
     ]
    }
   ],
   "source": [
    "# 利用正则表达式的'.' '^' '$' 和 '[]'\n",
    "regex = \"中.\"   # 匹配中_\n",
    "for str in s:\n",
    "    if re.search(regex, str) is not None:\n",
    "        print(str)"
   ]
  },
  {
   "cell_type": "code",
   "execution_count": 73,
   "metadata": {},
   "outputs": [],
   "source": [
    "regex = \"^开\"  # 以开开头\n",
    "for str in s:\n",
    "    if re.search(regex, str) is not None:\n",
    "        print(str)"
   ]
  },
  {
   "cell_type": "code",
   "execution_count": 74,
   "metadata": {},
   "outputs": [
    {
     "name": "stdout",
     "output_type": "stream",
     "text": [
      "[一般]突出高水平开放打造新发展优势\n"
     ]
    }
   ],
   "source": [
    "regex = \"优势$\"  # 以优势结尾\n",
    "for str in s:\n",
    "    if re.search(regex, str) is not None:\n",
    "        print(str)"
   ]
  },
  {
   "cell_type": "code",
   "execution_count": 75,
   "metadata": {},
   "outputs": [
    {
     "name": "stdout",
     "output_type": "stream",
     "text": [
      "[重要]开展规则、规制、管理、标准等制度型开放，形成国际合作和竞争新优势1998\n"
     ]
    }
   ],
   "source": [
    "regex = \"\\[重要\\]\"  #包括[重要]\n",
    "for str in s:\n",
    "    if re.search(regex, str) is not None:\n",
    "        print(str)"
   ]
  },
  {
   "cell_type": "code",
   "execution_count": 76,
   "metadata": {},
   "outputs": [
    {
     "name": "stdout",
     "output_type": "stream",
     "text": [
      "[一般]突出高水平开放打造新发展优势\n",
      "[重要]开展规则、规制、管理、标准等制度型开放，形成国际合作和竞争新优势1998\n"
     ]
    }
   ],
   "source": [
    "regex = \"^\\[[重一].\\]\"\n",
    "for str in s:\n",
    "    if re.search(regex, str) is not None:\n",
    "        print(str)"
   ]
  },
  {
   "cell_type": "code",
   "execution_count": 77,
   "metadata": {},
   "outputs": [
    {
     "name": "stdout",
     "output_type": "stream",
     "text": [
      "['[重要]开展规则、规制、管理、标准等制度型开放，形成国际合作和竞争新优势1998', '北京试行跨境服务贸易负面清单管理制度2015', '湖南放宽外商设立投资性公司申请条件2125']\n"
     ]
    }
   ],
   "source": [
    "# re.findall的使用，匹配时间\n",
    "regex = \"[1-2][0-9]{3}\"\n",
    "time_list = []\n",
    "for str in s:\n",
    "    if re.search(regex, str) is not None:\n",
    "        time_list.append(str)\n",
    "print(time_list)"
   ]
  },
  {
   "cell_type": "code",
   "execution_count": 79,
   "metadata": {},
   "outputs": [
    {
     "data": {
      "text/plain": [
       "['2112']"
      ]
     },
     "execution_count": 79,
     "metadata": {},
     "output_type": "execute_result"
    }
   ],
   "source": [
    "# re.findall的使用，抽取所有时间\n",
    "regex = \"[1-2][0-9]{3}\"\n",
    "s = \"2112\"\n",
    "years = re.findall(\"[1-2][0-9]{3}\", s)\n",
    "years"
   ]
  },
  {
   "cell_type": "code",
   "execution_count": null,
   "metadata": {},
   "outputs": [],
   "source": []
  }
 ],
 "metadata": {
  "kernelspec": {
   "display_name": "Python 3",
   "language": "python",
   "name": "python3"
  },
  "language_info": {
   "codemirror_mode": {
    "name": "ipython",
    "version": 3
   },
   "file_extension": ".py",
   "mimetype": "text/x-python",
   "name": "python",
   "nbconvert_exporter": "python",
   "pygments_lexer": "ipython3",
   "version": "3.7.1"
  }
 },
 "nbformat": 4,
 "nbformat_minor": 2
}
