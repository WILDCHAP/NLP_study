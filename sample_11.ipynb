{
 "cells": [
  {
   "cell_type": "code",
   "execution_count": 1,
   "metadata": {},
   "outputs": [],
   "source": [
    "import re"
   ]
  },
  {
   "cell_type": "code",
   "execution_count": 7,
   "metadata": {},
   "outputs": [
    {
     "name": "stdout",
     "output_type": "stream",
     "text": [
      "['a', 'B', '0', '1', '_', '你', '好'] "
     ]
    }
   ],
   "source": [
    "s = \"aB01_你好\"\n",
    "regex = '\\w'\n",
    "a = re.findall(regex, s)\n",
    "print(a, end =' ')"
   ]
  },
  {
   "cell_type": "code",
   "execution_count": 10,
   "metadata": {},
   "outputs": [
    {
     "name": "stdout",
     "output_type": "stream",
     "text": [
      "[' ', '\\n', ' ', ' '] "
     ]
    }
   ],
   "source": [
    "s = '哈哈哈 你好啊\\n很高兴  认识你'\n",
    "regex = '\\s'\n",
    "a = re.findall(regex, s)\n",
    "print(a, end =' ')"
   ]
  },
  {
   "cell_type": "code",
   "execution_count": 9,
   "metadata": {},
   "outputs": [
    {
     "name": "stdout",
     "output_type": "stream",
     "text": [
      "['20', '20', '25'] "
     ]
    }
   ],
   "source": [
    "s = '2020年9月25日是星期五'\n",
    "regex = '\\d\\d'\n",
    "a = re.findall(regex, s)\n",
    "print(a, end =' ')"
   ]
  },
  {
   "cell_type": "code",
   "execution_count": 22,
   "metadata": {},
   "outputs": [
    {
     "name": "stdout",
     "output_type": "stream",
     "text": [
      "['Harry'] "
     ]
    }
   ],
   "source": [
    "s = 'Harry potter is really nice'\n",
    "regex = '^Harry'\n",
    "a = re.findall(regex, s)\n",
    "print(a, end =' ')"
   ]
  },
  {
   "cell_type": "code",
   "execution_count": 25,
   "metadata": {},
   "outputs": [
    {
     "name": "stdout",
     "output_type": "stream",
     "text": [
      "['nice'] "
     ]
    }
   ],
   "source": [
    "s = 'Harry potter is really nice'\n",
    "regex = 'nice$'\n",
    "a = re.findall(regex, s)\n",
    "print(a, end =' ')"
   ]
  },
  {
   "cell_type": "code",
   "execution_count": 53,
   "metadata": {},
   "outputs": [
    {
     "name": "stdout",
     "output_type": "stream",
     "text": [
      "['121'] "
     ]
    }
   ],
   "source": [
    "s = 'Harryp121otterisreallynice'\n",
    "regex = '[0-9]+'\n",
    "a = re.findall(regex, s)\n",
    "print(a, end =' ')"
   ]
  },
  {
   "cell_type": "code",
   "execution_count": 37,
   "metadata": {},
   "outputs": [
    {
     "name": "stdout",
     "output_type": "stream",
     "text": [
      "['J', 'h', 'o', 'n', '2', '0', '2', '0', '9', '2', '5'] "
     ]
    }
   ],
   "source": [
    "s = 'Jhon说2020年9月25日是星期五'\n",
    "regex = '[a-zA-Z0-9]'\n",
    "a = re.findall(regex, s)\n",
    "print(a, end =' ')"
   ]
  },
  {
   "cell_type": "code",
   "execution_count": 38,
   "metadata": {},
   "outputs": [
    {
     "name": "stdout",
     "output_type": "stream",
     "text": [
      "['n', '5'] "
     ]
    }
   ],
   "source": [
    "s = 'Jhon说2020年9月25日是星期五'\n",
    "regex = '[n5]'\n",
    "a = re.findall(regex, s)\n",
    "print(a, end =' ')"
   ]
  },
  {
   "cell_type": "code",
   "execution_count": 43,
   "metadata": {},
   "outputs": [
    {
     "name": "stdout",
     "output_type": "stream",
     "text": [
      "['0_8'] "
     ]
    }
   ],
   "source": [
    "s = '0_8'\n",
    "regex = '[a-zA-Z0-9_]+'\n",
    "a = re.findall(regex, s)\n",
    "print(a, end =' ')"
   ]
  },
  {
   "cell_type": "code",
   "execution_count": 46,
   "metadata": {},
   "outputs": [
    {
     "name": "stdout",
     "output_type": "stream",
     "text": [
      "['P', 'p'] "
     ]
    }
   ],
   "source": [
    "s = 'Python, python'\n",
    "regex = '(P|p)ython'\n",
    "a = re.findall(regex, s)\n",
    "print(a, end=' ')"
   ]
  },
  {
   "cell_type": "code",
   "execution_count": 52,
   "metadata": {},
   "outputs": [
    {
     "name": "stdout",
     "output_type": "stream",
     "text": [
      "['，', '，上映了'] "
     ]
    }
   ],
   "source": [
    "s = 'the，Harry2010，上映了'\n",
    "regex = '[^a-zA-Z0-9_]+'\n",
    "a = re.findall(regex, s)\n",
    "print(a, end=' ')"
   ]
  },
  {
   "cell_type": "code",
   "execution_count": null,
   "metadata": {},
   "outputs": [],
   "source": []
  }
 ],
 "metadata": {
  "kernelspec": {
   "display_name": "Python 3",
   "language": "python",
   "name": "python3"
  },
  "language_info": {
   "codemirror_mode": {
    "name": "ipython",
    "version": 3
   },
   "file_extension": ".py",
   "mimetype": "text/x-python",
   "name": "python",
   "nbconvert_exporter": "python",
   "pygments_lexer": "ipython3",
   "version": "3.7.0"
  }
 },
 "nbformat": 4,
 "nbformat_minor": 4
}
