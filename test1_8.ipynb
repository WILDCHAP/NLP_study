{
 "cells": [
  {
   "cell_type": "code",
   "execution_count": 1,
   "metadata": {},
   "outputs": [],
   "source": [
    "from gensim.models import Word2Vec as wtv\n",
    "from nltk import word_tokenize"
   ]
  },
  {
   "cell_type": "code",
   "execution_count": 3,
   "metadata": {},
   "outputs": [],
   "source": [
    "s1 = \"Ariana Grande is a singer\"\n",
    "s2 = \"She has been a singer for many years\"\n",
    "s3 = \"Ariana is a great singer\""
   ]
  },
  {
   "cell_type": "code",
   "execution_count": 4,
   "metadata": {},
   "outputs": [],
   "source": [
    "#将每个句子转换成标记然后放到一个数组中\n",
    "sentences = [word_tokenize(s1), word_tokenize(s2), word_tokenize(s3)]"
   ]
  },
  {
   "cell_type": "code",
   "execution_count": 5,
   "metadata": {},
   "outputs": [],
   "source": [
    "#训练模型\n",
    "model = wtv(sentences, min_count = 1)"
   ]
  },
  {
   "cell_type": "code",
   "execution_count": 6,
   "metadata": {},
   "outputs": [
    {
     "name": "stdout",
     "output_type": "stream",
     "text": [
      "this is the summary of the model:\n",
      "Word2Vec(vocab=12, size=100, alpha=0.025)\n"
     ]
    }
   ],
   "source": [
    "#总结模型\n",
    "print('this is the summary of the model:')\n",
    "print(model)"
   ]
  },
  {
   "cell_type": "code",
   "execution_count": 7,
   "metadata": {},
   "outputs": [
    {
     "name": "stdout",
     "output_type": "stream",
     "text": [
      "this is the vocabulary for our corpus\n",
      "['a', 'Ariana', 'years', 'many', 'for', 'She', 'has', 'Grande', 'is', 'singer', 'been', 'great']\n"
     ]
    }
   ],
   "source": [
    "#列出哪些单词\n",
    "words = list(model.wv.vocab)\n",
    "print('this is the vocabulary for our corpus')\n",
    "print(words)"
   ]
  },
  {
   "cell_type": "code",
   "execution_count": 8,
   "metadata": {},
   "outputs": [
    {
     "name": "stdout",
     "output_type": "stream",
     "text": [
      "[ 2.5125504e-03  4.6232059e-03  4.2808633e-03 -4.9857083e-03\n",
      " -4.8704725e-03  9.5458789e-04 -3.4420560e-03  4.1701589e-03\n",
      " -3.5899121e-03  2.5702552e-03  1.5317686e-03  4.8240367e-03\n",
      " -1.5229572e-03  3.2685823e-03 -5.8444060e-04 -4.1359961e-03\n",
      "  3.4484505e-03  2.8691653e-03  3.3380634e-03  3.8450188e-03\n",
      "  5.2395855e-05  4.4292468e-03 -2.4277691e-03  2.0269037e-03\n",
      "  2.0535975e-03  4.4602188e-03  1.4693956e-04  9.0588193e-04\n",
      " -2.7277768e-03  3.4590266e-03  7.1547664e-04 -4.5591961e-03\n",
      " -4.4284533e-03 -1.4500212e-03  4.6923463e-04  1.9596254e-03\n",
      "  4.1465205e-03  2.1036232e-03 -2.0964292e-03  4.3207733e-03\n",
      " -4.1706194e-03  4.4963844e-03  4.1301483e-03 -2.5075504e-03\n",
      "  4.6955198e-03 -2.5909843e-03  4.6575558e-03  3.6812990e-03\n",
      "  2.2620689e-03  4.9593498e-04  2.2151673e-03 -1.7236405e-03\n",
      "  2.3877011e-03 -3.4470900e-03 -1.8641676e-03  2.8732363e-03\n",
      "  1.2428402e-03  4.7477456e-03 -2.8006034e-03  4.0897871e-03\n",
      "  4.2028395e-03  4.4872649e-03 -2.2840281e-03  1.8916060e-03\n",
      " -2.2855294e-03  4.9100718e-03 -1.9841655e-03 -3.7044673e-03\n",
      " -6.4292304e-05 -2.9491095e-03 -1.9856067e-03  4.7080442e-03\n",
      " -1.9971279e-03 -4.4958228e-03 -3.2708872e-04 -3.5781623e-03\n",
      " -2.3698097e-03 -3.2138135e-03  9.6026936e-04  1.2244313e-03\n",
      " -4.8186611e-03  2.2404524e-03  3.8430174e-03 -3.0112427e-03\n",
      " -3.7156621e-03  4.2508109e-03  1.8911230e-04  4.9679060e-03\n",
      "  3.7916047e-03  2.9554062e-03  8.3975564e-04 -8.5522159e-04\n",
      "  4.9106753e-03  6.2063162e-04  3.2942570e-03  4.5292364e-03\n",
      "  1.9953703e-03 -6.5376866e-04 -2.5311927e-03 -2.4359061e-03]\n"
     ]
    },
    {
     "name": "stderr",
     "output_type": "stream",
     "text": [
      "/home/wildchap/.local/lib/python3.5/site-packages/ipykernel_launcher.py:2: DeprecationWarning: Call to deprecated `__getitem__` (Method will be removed in 4.0.0, use self.wv.__getitem__() instead).\n",
      "  \n"
     ]
    }
   ],
   "source": [
    "#看看‘singer’这个词的向量（词嵌入）是什么\n",
    "print(model['singer'])"
   ]
  },
  {
   "cell_type": "code",
   "execution_count": 9,
   "metadata": {},
   "outputs": [
    {
     "data": {
      "text/plain": [
       "[('singer', 0.14163126051425934),\n",
       " ('Ariana', 0.10815129429101944),\n",
       " ('a', 0.08291633427143097),\n",
       " ('has', 0.058227770030498505),\n",
       " ('Grande', 0.019783228635787964),\n",
       " ('been', 0.011840417049825191)]"
      ]
     },
     "execution_count": 9,
     "metadata": {},
     "output_type": "execute_result"
    }
   ],
   "source": [
    "#查看与'great'相似的前6个词\n",
    "model.wv.most_similar(positive = ['great'], topn = 6)"
   ]
  },
  {
   "cell_type": "code",
   "execution_count": null,
   "metadata": {},
   "outputs": [],
   "source": []
  }
 ],
 "metadata": {
  "kernelspec": {
   "display_name": "Python 3",
   "language": "python",
   "name": "python3"
  },
  "language_info": {
   "codemirror_mode": {
    "name": "ipython",
    "version": 3
   },
   "file_extension": ".py",
   "mimetype": "text/x-python",
   "name": "python",
   "nbconvert_exporter": "python",
   "pygments_lexer": "ipython3",
   "version": "3.5.2"
  }
 },
 "nbformat": 4,
 "nbformat_minor": 4
}
